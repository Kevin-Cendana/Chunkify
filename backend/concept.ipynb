{
 "cells": [
  {
   "cell_type": "code",
   "execution_count": 18,
   "metadata": {},
   "outputs": [],
   "source": [
    "from openai import OpenAI\n",
    "import os\n",
    "from IPython.display import display, Markdown"
   ]
  },
  {
   "cell_type": "code",
   "execution_count": 10,
   "metadata": {},
   "outputs": [],
   "source": [
    "api_key = os.getenv('OPENAI_API_KEY')\n",
    "if not api_key:\n",
    "    raise ValueError('Your API is not detected in your environment vars. Double check.')"
   ]
  },
  {
   "cell_type": "markdown",
   "metadata": {},
   "source": [
    "Big project? Let's make progress!"
   ]
  },
  {
   "cell_type": "code",
   "execution_count": 11,
   "metadata": {},
   "outputs": [],
   "source": [
    "# What's the task that needs to be broken down?\n",
    "project = \"\"\"\n",
    "I want to find a tech intership for this summer.\n",
    "\"\"\""
   ]
  },
  {
   "cell_type": "code",
   "execution_count": 12,
   "metadata": {},
   "outputs": [],
   "source": [
    "# What are some specifics?\n",
    "details = \"\"\"\n",
    "I am a python developer, trying to go toward the field of data science. I hope to work in a big company, so that they eventually pay for my graduate's. I would like to start working in July.\n",
    "\"\"\""
   ]
  },
  {
   "cell_type": "code",
   "execution_count": 13,
   "metadata": {},
   "outputs": [],
   "source": [
    "instructions = \"\"\"\n",
    "You are a scheduler assistant for breaking complex tasks into actionable chunks. Your goal is to provide a list of small actions that build up to the project chosen by the user.\n",
    "\"\"\""
   ]
  },
  {
   "cell_type": "code",
   "execution_count": 14,
   "metadata": {},
   "outputs": [],
   "source": [
    "prompt = f\"\"\"\n",
    "You will break down this task: \n",
    "{project}\n",
    "into 10 small subtasks, with the following considerations:\n",
    "{details}\n",
    "\"\"\""
   ]
  },
  {
   "cell_type": "code",
   "execution_count": 15,
   "metadata": {},
   "outputs": [],
   "source": [
    "client = OpenAI()\n",
    "\n",
    "completion = client.chat.completions.create(\n",
    "  model=\"gpt-3.5-turbo\",\n",
    "  messages=[\n",
    "    {\"role\": \"system\", \"content\": instructions},\n",
    "    {\"role\": \"user\", \"content\": prompt}\n",
    "  ]\n",
    ")"
   ]
  },
  {
   "cell_type": "code",
   "execution_count": 20,
   "metadata": {},
   "outputs": [
    {
     "data": {
      "text/markdown": [
       "1. **Update Resume:**\n",
       "   - Tailor your resume to highlight relevant Python and data science skills.\n",
       "   \n",
       "2. **Build a Portfolio:**\n",
       "   - Showcase your Python projects and data science skills on a personal website or GitHub.\n",
       "   \n",
       "3. **Networking:**\n",
       "   - Connect with professionals in the tech industry, attend virtual events, and join relevant online communities.\n",
       "   \n",
       "4. **Research Companies:**\n",
       "   - Identify big companies that offer tech internships in data science.\n",
       "   \n",
       "5. **Prepare Cover Letter:**\n",
       "   - Draft a compelling cover letter emphasizing your passion for data science and Python expertise.\n",
       "   \n",
       "6. **Apply to Internships:**\n",
       "   - Submit applications to multiple internships at the companies you've researched.\n",
       "   \n",
       "7. **Practice Interviewing:**\n",
       "   - Conduct mock interviews to sharpen your skills and prepare for behavioral and technical questions.\n",
       "   \n",
       "8. **Follow-Up:**\n",
       "   - Send thank-you emails after interviews and follow up on application statuses.\n",
       "   \n",
       "9. **Negotiate Benefits:**\n",
       "   - If internship offers come in, negotiate for potential graduate program sponsorship with chosen company.\n",
       "   \n",
       "10. **Plan for July Start:**\n",
       "    - Coordinate with the chosen company for a July start date and any necessary preparations."
      ],
      "text/plain": [
       "<IPython.core.display.Markdown object>"
      ]
     },
     "metadata": {},
     "output_type": "display_data"
    }
   ],
   "source": [
    "response = completion.choices[0].message.content\n",
    "display(Markdown(response))"
   ]
  },
  {
   "cell_type": "code",
   "execution_count": null,
   "metadata": {},
   "outputs": [],
   "source": []
  }
 ],
 "metadata": {
  "kernelspec": {
   "display_name": "Python 3",
   "language": "python",
   "name": "python3"
  },
  "language_info": {
   "codemirror_mode": {
    "name": "ipython",
    "version": 3
   },
   "file_extension": ".py",
   "mimetype": "text/x-python",
   "name": "python",
   "nbconvert_exporter": "python",
   "pygments_lexer": "ipython3",
   "version": "3.11.5"
  }
 },
 "nbformat": 4,
 "nbformat_minor": 2
}
